{
  "nbformat": 4,
  "nbformat_minor": 0,
  "metadata": {
    "colab": {
      "provenance": []
    },
    "kernelspec": {
      "name": "python3",
      "display_name": "Python 3"
    },
    "language_info": {
      "name": "python"
    }
  },
  "cells": [
    {
      "cell_type": "code",
      "execution_count": null,
      "metadata": {
        "colab": {
          "base_uri": "https://localhost:8080/"
        },
        "id": "jnD7cNV4kKFc",
        "outputId": "bc542a86-f0a2-4403-c5e2-d3725ad48c73"
      },
      "outputs": [
        {
          "output_type": "stream",
          "name": "stdout",
          "text": [
            "Requirement already satisfied: streamlit in /usr/local/lib/python3.12/dist-packages (1.50.0)\n",
            "Requirement already satisfied: google-generativeai in /usr/local/lib/python3.12/dist-packages (0.8.5)\n",
            "Requirement already satisfied: pyngrok in /usr/local/lib/python3.12/dist-packages (7.4.0)\n",
            "Requirement already satisfied: altair!=5.4.0,!=5.4.1,<6,>=4.0 in /usr/local/lib/python3.12/dist-packages (from streamlit) (5.5.0)\n",
            "Requirement already satisfied: blinker<2,>=1.5.0 in /usr/local/lib/python3.12/dist-packages (from streamlit) (1.9.0)\n",
            "Requirement already satisfied: cachetools<7,>=4.0 in /usr/local/lib/python3.12/dist-packages (from streamlit) (5.5.2)\n",
            "Requirement already satisfied: click<9,>=7.0 in /usr/local/lib/python3.12/dist-packages (from streamlit) (8.3.0)\n",
            "Requirement already satisfied: numpy<3,>=1.23 in /usr/local/lib/python3.12/dist-packages (from streamlit) (2.0.2)\n",
            "Requirement already satisfied: packaging<26,>=20 in /usr/local/lib/python3.12/dist-packages (from streamlit) (25.0)\n",
            "Requirement already satisfied: pandas<3,>=1.4.0 in /usr/local/lib/python3.12/dist-packages (from streamlit) (2.2.2)\n",
            "Requirement already satisfied: pillow<12,>=7.1.0 in /usr/local/lib/python3.12/dist-packages (from streamlit) (11.3.0)\n",
            "Requirement already satisfied: protobuf<7,>=3.20 in /usr/local/lib/python3.12/dist-packages (from streamlit) (5.29.5)\n",
            "Requirement already satisfied: pyarrow>=7.0 in /usr/local/lib/python3.12/dist-packages (from streamlit) (18.1.0)\n",
            "Requirement already satisfied: requests<3,>=2.27 in /usr/local/lib/python3.12/dist-packages (from streamlit) (2.32.4)\n",
            "Requirement already satisfied: tenacity<10,>=8.1.0 in /usr/local/lib/python3.12/dist-packages (from streamlit) (8.5.0)\n",
            "Requirement already satisfied: toml<2,>=0.10.1 in /usr/local/lib/python3.12/dist-packages (from streamlit) (0.10.2)\n",
            "Requirement already satisfied: typing-extensions<5,>=4.4.0 in /usr/local/lib/python3.12/dist-packages (from streamlit) (4.15.0)\n",
            "Requirement already satisfied: watchdog<7,>=2.1.5 in /usr/local/lib/python3.12/dist-packages (from streamlit) (6.0.0)\n",
            "Requirement already satisfied: gitpython!=3.1.19,<4,>=3.0.7 in /usr/local/lib/python3.12/dist-packages (from streamlit) (3.1.45)\n",
            "Requirement already satisfied: pydeck<1,>=0.8.0b4 in /usr/local/lib/python3.12/dist-packages (from streamlit) (0.9.1)\n",
            "Requirement already satisfied: tornado!=6.5.0,<7,>=6.0.3 in /usr/local/lib/python3.12/dist-packages (from streamlit) (6.5.1)\n",
            "Requirement already satisfied: google-ai-generativelanguage==0.6.15 in /usr/local/lib/python3.12/dist-packages (from google-generativeai) (0.6.15)\n",
            "Requirement already satisfied: google-api-core in /usr/local/lib/python3.12/dist-packages (from google-generativeai) (2.26.0)\n",
            "Requirement already satisfied: google-api-python-client in /usr/local/lib/python3.12/dist-packages (from google-generativeai) (2.184.0)\n",
            "Requirement already satisfied: google-auth>=2.15.0 in /usr/local/lib/python3.12/dist-packages (from google-generativeai) (2.38.0)\n",
            "Requirement already satisfied: pydantic in /usr/local/lib/python3.12/dist-packages (from google-generativeai) (2.11.10)\n",
            "Requirement already satisfied: tqdm in /usr/local/lib/python3.12/dist-packages (from google-generativeai) (4.67.1)\n",
            "Requirement already satisfied: proto-plus<2.0.0dev,>=1.22.3 in /usr/local/lib/python3.12/dist-packages (from google-ai-generativelanguage==0.6.15->google-generativeai) (1.26.1)\n",
            "Requirement already satisfied: PyYAML>=5.1 in /usr/local/lib/python3.12/dist-packages (from pyngrok) (6.0.3)\n",
            "Requirement already satisfied: jinja2 in /usr/local/lib/python3.12/dist-packages (from altair!=5.4.0,!=5.4.1,<6,>=4.0->streamlit) (3.1.6)\n",
            "Requirement already satisfied: jsonschema>=3.0 in /usr/local/lib/python3.12/dist-packages (from altair!=5.4.0,!=5.4.1,<6,>=4.0->streamlit) (4.25.1)\n",
            "Requirement already satisfied: narwhals>=1.14.2 in /usr/local/lib/python3.12/dist-packages (from altair!=5.4.0,!=5.4.1,<6,>=4.0->streamlit) (2.8.0)\n",
            "Requirement already satisfied: gitdb<5,>=4.0.1 in /usr/local/lib/python3.12/dist-packages (from gitpython!=3.1.19,<4,>=3.0.7->streamlit) (4.0.12)\n",
            "Requirement already satisfied: googleapis-common-protos<2.0.0,>=1.56.2 in /usr/local/lib/python3.12/dist-packages (from google-api-core->google-generativeai) (1.70.0)\n",
            "Requirement already satisfied: pyasn1-modules>=0.2.1 in /usr/local/lib/python3.12/dist-packages (from google-auth>=2.15.0->google-generativeai) (0.4.2)\n",
            "Requirement already satisfied: rsa<5,>=3.1.4 in /usr/local/lib/python3.12/dist-packages (from google-auth>=2.15.0->google-generativeai) (4.9.1)\n",
            "Requirement already satisfied: python-dateutil>=2.8.2 in /usr/local/lib/python3.12/dist-packages (from pandas<3,>=1.4.0->streamlit) (2.9.0.post0)\n",
            "Requirement already satisfied: pytz>=2020.1 in /usr/local/lib/python3.12/dist-packages (from pandas<3,>=1.4.0->streamlit) (2025.2)\n",
            "Requirement already satisfied: tzdata>=2022.7 in /usr/local/lib/python3.12/dist-packages (from pandas<3,>=1.4.0->streamlit) (2025.2)\n",
            "Requirement already satisfied: charset_normalizer<4,>=2 in /usr/local/lib/python3.12/dist-packages (from requests<3,>=2.27->streamlit) (3.4.4)\n",
            "Requirement already satisfied: idna<4,>=2.5 in /usr/local/lib/python3.12/dist-packages (from requests<3,>=2.27->streamlit) (3.11)\n",
            "Requirement already satisfied: urllib3<3,>=1.21.1 in /usr/local/lib/python3.12/dist-packages (from requests<3,>=2.27->streamlit) (2.5.0)\n",
            "Requirement already satisfied: certifi>=2017.4.17 in /usr/local/lib/python3.12/dist-packages (from requests<3,>=2.27->streamlit) (2025.10.5)\n",
            "Requirement already satisfied: httplib2<1.0.0,>=0.19.0 in /usr/local/lib/python3.12/dist-packages (from google-api-python-client->google-generativeai) (0.31.0)\n",
            "Requirement already satisfied: google-auth-httplib2<1.0.0,>=0.2.0 in /usr/local/lib/python3.12/dist-packages (from google-api-python-client->google-generativeai) (0.2.0)\n",
            "Requirement already satisfied: uritemplate<5,>=3.0.1 in /usr/local/lib/python3.12/dist-packages (from google-api-python-client->google-generativeai) (4.2.0)\n",
            "Requirement already satisfied: annotated-types>=0.6.0 in /usr/local/lib/python3.12/dist-packages (from pydantic->google-generativeai) (0.7.0)\n",
            "Requirement already satisfied: pydantic-core==2.33.2 in /usr/local/lib/python3.12/dist-packages (from pydantic->google-generativeai) (2.33.2)\n",
            "Requirement already satisfied: typing-inspection>=0.4.0 in /usr/local/lib/python3.12/dist-packages (from pydantic->google-generativeai) (0.4.2)\n",
            "Requirement already satisfied: smmap<6,>=3.0.1 in /usr/local/lib/python3.12/dist-packages (from gitdb<5,>=4.0.1->gitpython!=3.1.19,<4,>=3.0.7->streamlit) (5.0.2)\n",
            "Requirement already satisfied: grpcio<2.0.0,>=1.33.2 in /usr/local/lib/python3.12/dist-packages (from google-api-core[grpc]!=2.0.*,!=2.1.*,!=2.10.*,!=2.2.*,!=2.3.*,!=2.4.*,!=2.5.*,!=2.6.*,!=2.7.*,!=2.8.*,!=2.9.*,<3.0.0dev,>=1.34.1->google-ai-generativelanguage==0.6.15->google-generativeai) (1.75.1)\n",
            "Requirement already satisfied: grpcio-status<2.0.0,>=1.33.2 in /usr/local/lib/python3.12/dist-packages (from google-api-core[grpc]!=2.0.*,!=2.1.*,!=2.10.*,!=2.2.*,!=2.3.*,!=2.4.*,!=2.5.*,!=2.6.*,!=2.7.*,!=2.8.*,!=2.9.*,<3.0.0dev,>=1.34.1->google-ai-generativelanguage==0.6.15->google-generativeai) (1.71.2)\n",
            "Requirement already satisfied: pyparsing<4,>=3.0.4 in /usr/local/lib/python3.12/dist-packages (from httplib2<1.0.0,>=0.19.0->google-api-python-client->google-generativeai) (3.2.5)\n",
            "Requirement already satisfied: MarkupSafe>=2.0 in /usr/local/lib/python3.12/dist-packages (from jinja2->altair!=5.4.0,!=5.4.1,<6,>=4.0->streamlit) (3.0.3)\n",
            "Requirement already satisfied: attrs>=22.2.0 in /usr/local/lib/python3.12/dist-packages (from jsonschema>=3.0->altair!=5.4.0,!=5.4.1,<6,>=4.0->streamlit) (25.4.0)\n",
            "Requirement already satisfied: jsonschema-specifications>=2023.03.6 in /usr/local/lib/python3.12/dist-packages (from jsonschema>=3.0->altair!=5.4.0,!=5.4.1,<6,>=4.0->streamlit) (2025.9.1)\n",
            "Requirement already satisfied: referencing>=0.28.4 in /usr/local/lib/python3.12/dist-packages (from jsonschema>=3.0->altair!=5.4.0,!=5.4.1,<6,>=4.0->streamlit) (0.37.0)\n",
            "Requirement already satisfied: rpds-py>=0.7.1 in /usr/local/lib/python3.12/dist-packages (from jsonschema>=3.0->altair!=5.4.0,!=5.4.1,<6,>=4.0->streamlit) (0.27.1)\n",
            "Requirement already satisfied: pyasn1<0.7.0,>=0.6.1 in /usr/local/lib/python3.12/dist-packages (from pyasn1-modules>=0.2.1->google-auth>=2.15.0->google-generativeai) (0.6.1)\n",
            "Requirement already satisfied: six>=1.5 in /usr/local/lib/python3.12/dist-packages (from python-dateutil>=2.8.2->pandas<3,>=1.4.0->streamlit) (1.17.0)\n"
          ]
        }
      ],
      "source": [
        "# Install all required packages\n",
        "!pip install streamlit google-generativeai pyngrok"
      ]
    },
    {
      "cell_type": "code",
      "source": [
        "import os\n",
        "import zipfile\n",
        "\n",
        "# Define file paths\n",
        "zip_file_path = \"/content/fashion_data.zip\"\n",
        "extract_dir = \"/content/fashion_data_extracted\"\n",
        "\n",
        "# Unzip the file\n",
        "if os.path.exists(zip_file_path):\n",
        "    with zipfile.ZipFile(zip_file_path, 'r') as zip_ref:\n",
        "        zip_ref.extractall(extract_dir)\n",
        "    print(f\"Successfully unzipped '{zip_file_path}' to '{extract_dir}'\")\n",
        "else:\n",
        "    print(f\"Error: '{zip_file_path}' not found. Please upload your zip file.\")"
      ],
      "metadata": {
        "colab": {
          "base_uri": "https://localhost:8080/"
        },
        "id": "Su-h8-0Dk4AX",
        "outputId": "4c68caa5-d1c1-4470-e4a0-14ef88c30259"
      },
      "execution_count": null,
      "outputs": [
        {
          "output_type": "stream",
          "name": "stdout",
          "text": [
            "Successfully unzipped '/content/fashion_data.zip' to '/content/fashion_data_extracted'\n"
          ]
        }
      ]
    },
    {
      "cell_type": "code",
      "source": [
        "%%writefile app.py\n",
        "\n",
        "import streamlit as st\n",
        "import google.generativeai as genai\n",
        "import os\n",
        "import glob\n",
        "import datetime\n",
        "\n",
        "# --- 1. Load Knowledge Base (Your Fashion Data) ---\n",
        "@st.cache_data\n",
        "def load_knowledge_base():\n",
        "    \"\"\"\n",
        "    Loads all .txt files from the extracted data directory into a single string.\n",
        "    \"\"\"\n",
        "    knowledge = \"\"\n",
        "    file_paths = glob.glob(\"/content/fashion_data_extracted/fashion_data/*.txt\")\n",
        "\n",
        "    if not file_paths:\n",
        "        st.error(\"Error: No fashion data files found in '/content/fashion_data_extracted/fashion_data/'.\")\n",
        "        return None\n",
        "\n",
        "    for f_path in file_paths:\n",
        "        try:\n",
        "            with open(f_path, 'r', encoding='utf-8') as f:\n",
        "                knowledge += f.read() + \"\\n\\n\"\n",
        "        except Exception as e:\n",
        "            st.error(f\"Error reading {f_path}: {e}\")\n",
        "    return knowledge\n",
        "\n",
        "# --- 2. Configure Gemini API ---\n",
        "try:\n",
        "    GEMINI_API_KEY = os.environ.get('GOOGLE_API_KEY')\n",
        "    if not GEMINI_API_KEY:\n",
        "        st.error(\"GOOGLE_API_KEY not found in environment. Please set it in Colab Secrets (🔑).\")\n",
        "        model = None\n",
        "    else:\n",
        "        genai.configure(api_key=GEMINI_API_KEY)\n",
        "        # Initialize the chat model\n",
        "        # --- THIS LINE IS CORRECTED ---\n",
        "        model = genai.GenerativeModel('models/gemini-flash-latest')\n",
        "except Exception as e:\n",
        "    st.error(f\"Error configuring Gemini: {e}\")\n",
        "    model = None\n",
        "\n",
        "# --- 3. Gemini Query Function (RAG + Chat History) ---\n",
        "def get_fashion_recommendation(knowledge_base, chat_history, user_query):\n",
        "    \"\"\"\n",
        "    Generates a fashion recommendation using Gemini, based on the provided\n",
        "    knowledge base and chat history.\n",
        "    \"\"\"\n",
        "    if not model:\n",
        "        return \"Gemini model is not initialized. Please check your API key.\"\n",
        "\n",
        "    if not knowledge_base:\n",
        "        return \"Knowledge base is empty. Cannot provide recommendations.\"\n",
        "\n",
        "    # This is the \"Retrieval-Augmented Generation\" (RAG) prompt.\n",
        "    system_prompt = f\"\"\"\n",
        "    You are a friendly and expert fashion outfit recommendation assistant.\n",
        "    Your task is to answer the user's fashion request based on the chat history and your KNOWLEDGE BASE.\n",
        "\n",
        "    **RULES:**\n",
        "    1.  Base your answer *only* on the information provided in the \"KNOWLEDGE BASE\" below.\n",
        "    2.  Use the \"CHAT HISTORY\" to understand the user's previous questions and context (like follow-up questions).\n",
        "    3.  If no exact match is found in the KNOWLEDGE BASE, find the *closest* match and adapt it.\n",
        "    4.  **IMAGE LINK:** After your text recommendation, you MUST provide a clickable markdown link to a Google Image search for the main outfit.\n",
        "        Example: `[See examples of this outfit](https://www.google.com/search?tbm=isch&q=Red+Anarkali+Suit+Zari+Work)`\n",
        "    5.  If the query is unrelated to fashion (like \"what is the capital of France?\"), use the \"Out-of-Context Queries\" examples to politely decline.\n",
        "\n",
        "    ---\n",
        "    KNOWLEDGE BASE:\n",
        "    {knowledge_base}\n",
        "    ---\n",
        "\n",
        "    CHAT HISTORY:\n",
        "    {chat_history}\n",
        "    ---\n",
        "\n",
        "    NEW USER REQUEST:\n",
        "    \"{user_query}\"\n",
        "    \"\"\"\n",
        "\n",
        "    try:\n",
        "        # Pass the full prompt to generate_content\n",
        "        response = model.generate_content(system_prompt)\n",
        "        return response.text\n",
        "    except Exception as e:\n",
        "        return f\"An error occurred while contacting the Gemini API: {e}\"\n",
        "\n",
        "# --- 4. Feedback Logger ---\n",
        "def log_feedback(feedback):\n",
        "    \"\"\"Appends user feedback to a log file.\"\"\"\n",
        "    try:\n",
        "        with open(\"/content/user_feedback.log\", \"a\", encoding=\"utf-8\") as f:\n",
        "            f.write(f\"--- Feedback at {datetime.datetime.now()} ---\\n\")\n",
        "            f.write(f\"{feedback}\\n\\n\")\n",
        "        return True\n",
        "    except Exception as e:\n",
        "        st.error(f\"Error logging feedback: {e}\")\n",
        "        return False\n",
        "\n",
        "# --- 5. Streamlit UI (The Website) ---\n",
        "st.set_page_config(page_title=\"AI Fashion Advisor\", layout=\"wide\")\n",
        "st.title(\"👗 AI Fashion Advisor 👠\")\n",
        "st.write(\"Welcome! I'm your personal fashion bot. Ask me for outfit advice!\")\n",
        "\n",
        "# Load the fashion data\n",
        "knowledge_base = load_knowledge_base()\n",
        "\n",
        "# Initialize chat history in session state\n",
        "if \"messages\" not in st.session_state:\n",
        "    st.session_state.messages = []\n",
        "    st.session_state.messages.append({\n",
        "        \"role\": \"assistant\",\n",
        "        \"content\": \"What's the occasion? (e.g., 'I'm a 30-year-old man going to a wedding in Hyderabad')\"\n",
        "    })\n",
        "\n",
        "# --- Main App Layout ---\n",
        "col1, col2 = st.columns([2, 1])\n",
        "\n",
        "with col1:\n",
        "    st.subheader(\"Chat\")\n",
        "\n",
        "    # Display chat messages\n",
        "    chat_container = st.container(height=500)\n",
        "    with chat_container:\n",
        "        for message in st.session_state.messages:\n",
        "            with st.chat_message(message[\"role\"]):\n",
        "                st.markdown(message[\"content\"])\n",
        "\n",
        "    # Chat input\n",
        "    if prompt := st.chat_input(\"What should I wear?\"):\n",
        "        # Add user message to history and display it\n",
        "        st.session_state.messages.append({\"role\": \"user\", \"content\": prompt})\n",
        "        with chat_container:\n",
        "            with st.chat_message(\"user\"):\n",
        "                st.markdown(prompt)\n",
        "\n",
        "        # Generate and display bot response\n",
        "        with chat_container:\n",
        "            with st.chat_message(\"assistant\"):\n",
        "                with st.spinner(\"Finding the perfect outfit...\"):\n",
        "                    if knowledge_base and model:\n",
        "                        # Create a simple history string for the prompt\n",
        "                        history_for_prompt = \"\\n\".join(\n",
        "                            [f\"{m['role']}: {m['content']}\" for m in st.session_state.messages]\n",
        "                        )\n",
        "\n",
        "                        response = get_fashion_recommendation(knowledge_base, history_for_prompt, prompt)\n",
        "                        st.markdown(response)\n",
        "                        # Add bot response to history\n",
        "                        st.session_state.messages.append({\"role\": \"assistant\", \"content\": response})\n",
        "                    else:\n",
        "                        st.error(\"Knowledge base or Gemini model is not loaded.\")\n",
        "\n",
        "with col2:\n",
        "    st.subheader(\"Feedback Pipeline\")\n",
        "    st.write(\"Help the bot learn! If a recommendation was wrong or could be better, please leave your feedback.\")\n",
        "\n",
        "    feedback_text = st.text_area(\"Your feedback:\", height=150, placeholder=\"e.g., 'For a Goa beach, you should also recommend Kaftans for women.'\")\n",
        "\n",
        "    if st.button(\"Submit Feedback\"):\n",
        "        if feedback_text:\n",
        "            if log_feedback(feedback_text):\n",
        "                st.success(\"Thank you! Your feedback has been logged.\")\n",
        "                st.balloons()\n",
        "            else:\n",
        "                st.error(\"Failed to log feedback.\")\n",
        "        else:\n",
        "            st.warning(\"Please enter some feedback first.\")"
      ],
      "metadata": {
        "colab": {
          "base_uri": "https://localhost:8080/"
        },
        "id": "L1KINJDBk9jX",
        "outputId": "d17e30f9-5cd8-4a7e-ecef-b0f742685f14"
      },
      "execution_count": 16,
      "outputs": [
        {
          "output_type": "stream",
          "name": "stdout",
          "text": [
            "Overwriting app.py\n"
          ]
        }
      ]
    },
    {
      "cell_type": "code",
      "source": [
        "# Run this cell ONCE to create the empty log file\n",
        "!touch /content/user_feedback.log\n",
        "print(\"Created /content/user_feedback.log\")"
      ],
      "metadata": {
        "colab": {
          "base_uri": "https://localhost:8080/"
        },
        "id": "HIZg-MOklCI5",
        "outputId": "8d7d6e5d-c0ec-4e7a-af3d-40b019ff6f47"
      },
      "execution_count": 17,
      "outputs": [
        {
          "output_type": "stream",
          "name": "stdout",
          "text": [
            "Created /content/user_feedback.log\n"
          ]
        }
      ]
    },
    {
      "cell_type": "code",
      "source": [
        "from pyngrok import ngrok, conf\n",
        "import google.colab.userdata\n",
        "import getpass\n",
        "import os\n",
        "\n",
        "# Kill any existing Streamlit or ngrok processes\n",
        "!killall streamlit\n",
        "!killall ngrok\n",
        "\n",
        "# --- 1. Get NGROK Token ---\n",
        "NGROK_AUTH_TOKEN = google.colab.userdata.get('NGROK_AUTHTOKEN')\n",
        "if not NGROK_AUTH_TOKEN:\n",
        "    print(\"NGROK_AUTHTOKEN not found in secrets. Please add it.\")\n",
        "    NGROK_AUTH_TOKEN = getpass.getpass(\"Enter your ngrok authtoken: \")\n",
        "\n",
        "# --- 2. Get GOOGLE API Key ---\n",
        "GOOGLE_KEY = google.colab.userdata.get('GOOGLE_API_KEY')\n",
        "if not GOOGLE_KEY:\n",
        "    print(\"GOOGLE_API_KEY not found in secrets. Please add it.\")\n",
        "else:\n",
        "    print(\"Successfully retrieved GOOGLE_API_KEY.\")\n",
        "\n",
        "# --- 3. Run Streamlit with the API key ---\n",
        "os.environ['GOOGLE_API_KEY'] = GOOGLE_KEY\n",
        "conf.get_default().auth_token = NGROK_AUTH_TOKEN\n",
        "\n",
        "!streamlit run app.py &> /dev/null &\n",
        "\n",
        "# --- 4. Configure and connect ngrok ---\n",
        "try:\n",
        "    import time\n",
        "    time.sleep(5)\n",
        "\n",
        "    public_url = ngrok.connect(8501)\n",
        "    print(\"✨ Your Fashion Website is LIVE! ✨\")\n",
        "    print(f\"Click here to open: {public_url}\")\n",
        "\n",
        "except Exception as e:\n",
        "    print(f\"Error starting ngrok: {e}\")\n",
        "    print(\"Please ensure your NGROK_AUTHTOKEN secret is set correctly and try again.\")"
      ],
      "metadata": {
        "colab": {
          "base_uri": "https://localhost:8080/"
        },
        "id": "Ec8-f_OelGbF",
        "outputId": "8fcada91-9055-45f0-9f63-c12059be9d3e"
      },
      "execution_count": 18,
      "outputs": [
        {
          "output_type": "stream",
          "name": "stdout",
          "text": [
            "Successfully retrieved GOOGLE_API_KEY.\n",
            "✨ Your Fashion Website is LIVE! ✨\n",
            "Click here to open: NgrokTunnel: \"https://gonadial-deprecatively-jamila.ngrok-free.dev\" -> \"http://localhost:8501\"\n"
          ]
        }
      ]
    },
    {
      "cell_type": "code",
      "source": [],
      "metadata": {
        "colab": {
          "base_uri": "https://localhost:8080/"
        },
        "id": "5TS7JErLlvLF",
        "outputId": "6f24495e-e7d7-460c-8495-29c8b2fe4314"
      },
      "execution_count": null,
      "outputs": [
        {
          "output_type": "stream",
          "name": "stdout",
          "text": [
            "Killed any running streamlit and ngrok processes.\n"
          ]
        }
      ]
    },
    {
      "cell_type": "code",
      "source": [
        "\n",
        "\n"
      ],
      "metadata": {
        "colab": {
          "base_uri": "https://localhost:8080/"
        },
        "id": "ubp_57ehnS1R",
        "outputId": "a40fb6bb-faa3-4de1-8828-d9b52273775b"
      },
      "execution_count": 9,
      "outputs": [
        {
          "output_type": "stream",
          "name": "stdout",
          "text": [
            "Attempting to kill old processes...\n",
            "streamlit: no process found\n",
            "ngrok: no process found\n",
            "Kill commands executed. Should be clear now.\n"
          ]
        }
      ]
    }
  ]
}